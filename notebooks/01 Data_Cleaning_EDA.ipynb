{
 "cells": [
  {
   "cell_type": "markdown",
   "id": "4b35663a-f489-4d74-926d-2edef807b487",
   "metadata": {},
   "source": [
    "# 1. Data Loading and Initial Inspection"
   ]
  },
  {
   "cell_type": "markdown",
   "id": "90e4ba4e-810d-41bd-b5db-92680a759da4",
   "metadata": {},
   "source": [
    "Before running this notebook, make sure that the dataset is present in the '/data' folder.\n",
    "You can either download it directly from the link in the repo or use 'make data' to pull it down using the Kaggle API.\n",
    "\n",
    "Now, Let's load the dataset and perform some basic inspections."
   ]
  },
  {
   "cell_type": "code",
   "execution_count": null,
   "id": "a7bd378d-0e9a-482b-83dc-dbe30067c4cf",
   "metadata": {},
   "outputs": [],
   "source": [
    "import pandas as pd\n",
    "import seaborn as sns\n",
    "import matplotlib.pyplot as plt\n",
    "\n",
    "from sklearn.preprocessing import LabelEncoder\n",
    "from sklearn.ensemble import RandomForestRegressor, GradientBoostingRegressor\n",
    "from sklearn.neighbors import KNeighborsRegressor\n",
    "from sklearn.inspection import permutation_importance\n",
    "from sklearn.model_selection import train_test_split"
   ]
  },
  {
   "cell_type": "code",
   "execution_count": null,
   "id": "aca66ca1-db47-4797-85db-42a7cbc84cad",
   "metadata": {},
   "outputs": [],
   "source": [
    "df = pd.read_csv('~/Capstone/data/airbnb-listings.csv', sep=\";\", low_memory=False)"
   ]
  },
  {
   "cell_type": "code",
   "execution_count": null,
   "id": "317b4f7c-8c43-4e57-a7bb-39c7f88026da",
   "metadata": {},
   "outputs": [],
   "source": [
    "df.head()"
   ]
  },
  {
   "cell_type": "code",
   "execution_count": null,
   "id": "681735e9-304a-4baf-9644-160830832e06",
   "metadata": {},
   "outputs": [],
   "source": [
    "df.shape"
   ]
  },
  {
   "cell_type": "code",
   "execution_count": null,
   "id": "a4018a40-5e4f-4df0-9d8a-de444e384f7c",
   "metadata": {
    "scrolled": true
   },
   "outputs": [],
   "source": [
    "df.info()"
   ]
  },
  {
   "cell_type": "markdown",
   "id": "bef5d8cb-d4cc-4efa-ba07-0561a7251315",
   "metadata": {},
   "source": [
    "### a. Check for missing values"
   ]
  },
  {
   "cell_type": "markdown",
   "id": "33cada4a-401c-4843-8842-8321362fa10b",
   "metadata": {},
   "source": [
    "Missing values can significantly affect the performance of your model, so it's important to know which columns have missing data"
   ]
  },
  {
   "cell_type": "code",
   "execution_count": null,
   "id": "b26aaf2c-d585-4769-9e21-37ab9a65a855",
   "metadata": {
    "scrolled": true
   },
   "outputs": [],
   "source": [
    "# Set Pandas to display all columns and rows\n",
    "pd.set_option('display.max_columns', None)  # Show all columns\n",
    "pd.set_option('display.max_rows', None)  # Show all rows\n",
    "pd.set_option('display.width', None)  # Ensure it doesn't wrap text\n",
    "\n",
    "# Calculate missing values in each column and sort\n",
    "missing_data = df.isnull().sum().sort_values(ascending=False)\n",
    "\n",
    "# Display columns with missing data (if missing > 0)\n",
    "print(missing_data[missing_data > 0])\n"
   ]
  },
  {
   "cell_type": "markdown",
   "id": "c2ace718-452e-4897-ae62-05d4fed8bd31",
   "metadata": {},
   "source": [
    "# Description of Missing Data in the Dataset\n",
    "The dataset contains 494,954 entries and 89 columns. Each column represents a different attribute of the Airbnb listings, and the dataset shows a varying degree of missing data across these columns. Here's a breakdown of the missing data, which reveals some important insights about the completeness of the dataset and areas where the information might be sparse.\n",
    "\n",
    "#### Key Observations:\n",
    "#### 1. Columns with High Missing Data Counts:\n",
    "Reviews per Month: Missing 122,007 values, showing that reviews data is also sparsely available for some listings.\n",
    "First Review and Last Review: Missing 122,007 and 121,899 values respectively, indicating that reviews may not be present for all listings, especially newer ones or those with fewer interactions.\n",
    "Neighbourhood: Missing 149,551 values, which could indicate that neighborhood data is not always available for listings.\n",
    "Host About: This column is missing 198,677 values, suggesting that many host profiles do not include detailed descriptions about the host.\n",
    "Jurisdiction Names: Missing 360,401 values, which may indicate that jurisdiction data is missing for many listings.\n",
    "Neighbourhood Group Cleansed: With 392,791 missing values, it indicates that the neighborhood grouping data is only available for a subset of listings.\n",
    "Weekly Price and Monthly Price: Both columns have 397,207 and 398,863 missing values, respectively, which could imply that many listings do not have these pricing details.\n",
    "Host Acceptance Rate: This column has a significant 452,696 missing values, meaning a large portion of the data for this feature is unavailable. This could be due to hosts not setting or reporting their acceptance rate, or it may not be available for listings that are not accepting guests.\n",
    "License: Missing 480,358 values, which suggests that most listings don’t have a license recorded in the dataset.\n",
    "Has Availability: Missing 485,647 values, which might imply that availability data is available for only a small fraction of listings.\n",
    "\n",
    "#### 2. Columns with Moderate Missing Data:\n",
    "Description: Missing 160 values, pointing to incomplete descriptions for certain listings.\n",
    "Name: Missing 418 values, suggesting that a small number of listings lack a name.\n",
    "Host Location: Missing 2,263 values, which suggests that location information about the host is not always provided.\n",
    "Amenities: Missing 4,488 values, meaning that the feature list for some listings is incomplete.\n",
    "Price: Missing 7,958 values, which is a relatively small portion compared to the overall dataset, but still significant enough to warrant attention when analyzing pricing.\n",
    "Summary: Missing 16,201 values, indicating that a reasonable portion of the listings do not have a description or summary provided.\n",
    "\n",
    "#### 3. Columns with Low Missing Data:\n",
    "Last Scraped: This column has only 1 missing value, suggesting that the date for the most recent scrape is almost always recorded, and there is only one instance where it was missed. \n",
    "Room Type: Missing only 1 value, suggesting it's almost always recorded for listings. \n",
    "Geolocation: Missing 1 value, but it is still generally available for almost all listings. Street: Missing 1 value, which likely corresponds to a listing with incomplete address information.\n",
    "Latitude and Longitude: Both of these geographical columns are missing only 1 value, which indicates that most listings have geographical coordinates captured.\n",
    "Cancellation Policy: Missing 2 values, indicating that the cancellation policy is recorded for almost all listings.\n",
    "Smart Location, Country Code, and Country: These columns have 2 or 3 missing values, respectively, suggesting that geographical data is mostly available. \n",
    "\n"
   ]
  },
  {
   "cell_type": "markdown",
   "id": "697b74b7-440a-4462-bb07-dd97543df1c8",
   "metadata": {},
   "source": [
    "# Summary and Impact of Missing Data:\n",
    "- **High Missing Data Columns**: In cases where missing data is very high, we will drop columns.\n",
    "\n",
    "- **Columns with Moderate and Low Missing Data**: In cases where missing data is low to moderate, we may decide to impute using reasonable assumptions or drop the rows on a case by case basis.\n",
    "\n",
    "#### Conclusion:\n",
    "This dataset contains a mix of columns with minimal missing data and columns with substantial missing data. By understanding the missing data distribution, we can make informed decisions on whether to impute or remove the missing values depending on their impact on our models. Handling missing data effectively will improve the accuracy and reliability of said models."
   ]
  },
  {
   "cell_type": "markdown",
   "id": "27271e2e",
   "metadata": {},
   "source": [
    "### b. Check for duplicates"
   ]
  },
  {
   "cell_type": "code",
   "execution_count": null,
   "id": "8c183d30-9b2d-412a-a8a1-f8f03a62d5b3",
   "metadata": {},
   "outputs": [],
   "source": [
    "# Check for duplicates in the data\n",
    "duplicates = df.duplicated().sum()\n",
    "\n",
    "print(f\"Number of duplicate rows: {duplicates}\")\n"
   ]
  },
  {
   "cell_type": "markdown",
   "id": "3b635bf0-a068-48bc-9cc4-25d52a808a2a",
   "metadata": {},
   "source": [
    "#### Description of Duplicate Rows:\n",
    "The dataset contains 0 duplicate rows, meaning that each entry in the dataset is unique. This is a positive outcome, as it ensures that the data does not include redundant or repeated records, which could potentially distort analysis or model performance. Having no duplicate rows helps maintain the integrity of the data, ensuring that each entry represents a distinct Airbnb listing without any repetitions."
   ]
  },
  {
   "cell_type": "markdown",
   "id": "25179e4f-84d1-4d13-b147-e07bb01465bd",
   "metadata": {},
   "source": [
    "### c. Check for data freshness"
   ]
  },
  {
   "cell_type": "code",
   "execution_count": null,
   "id": "131a7bf8-9db4-4068-87ef-7efd080c767c",
   "metadata": {},
   "outputs": [],
   "source": [
    "# Convert the 'Last Scraped' column to datetime format, coerce errors to NaT\n",
    "df['Last Scraped'] = pd.to_datetime(df['Last Scraped'], errors='coerce')\n",
    "\n",
    "# Get the earliest scrape date (min) and the most recent scrape date (max)\n",
    "earliest_scrape = df['Last Scraped'].min()\n",
    "recent_scrape = df['Last Scraped'].max()\n",
    "\n",
    "# Print the earliest and most recent scrape dates\n",
    "print(f\"The earliest scrape date was: {earliest_scrape}\")\n",
    "print(f\"The most recent scrape date was: {recent_scrape}\")\n"
   ]
  },
  {
   "cell_type": "markdown",
   "id": "fe3658cf-ae75-4cdf-b7fb-f74730be175a",
   "metadata": {},
   "source": [
    "### Data Freshness Explaination\n",
    "Although the dataset spans from 2015 to 2017, it still holds significant value for analysis, particularly when exploring long-term trends, market evolution, and predictive modeling. Despite its age, this data can provide essential insights into the Airbnb market, offering a foundation for understanding key variables like pricing patterns, neighborhood popularity, and host behaviors. Additionally, the dataset's comprehensive nature makes it a valuable resource, especially when newer datasets may be less complete or accessible. This dataset serves as a useful baseline for comparing past and present market conditions, allowing for the identification of growth areas and the development of strategies that remain relevant today. By leveraging this historical data, we can uncover lasting insights that inform both current analysis and future predictions.\n",
    "\n",
    "#### 1. Revealing Long-Term Trends:\n",
    "Insight into Historical Patterns: Despite the dataset being from 2015 to 2017, it offers valuable insights into long-term trends. Understanding past pricing patterns, neighborhood popularity, and host behaviors can provide a foundation for predicting future trends, particularly in a market that has reached a certain level of stability.\n",
    "Market Evolution: Analyzing the data from 2015-2017 allows you to uncover shifts in customer preferences, pricing fluctuations, and new amenities that may still apply today.\n",
    "#### 2. Baseline for Comparison and Predictive Modeling:\n",
    "Comparing with Newer Data: This dataset serves as an essential baseline for comparing more current data, helping you track how the market has evolved. It enables the measurement of growth in features, customer satisfaction, and price shifts.\n",
    "Predictive Insights: Historical data can still be valuable for predictive modeling, with trends from 2015-2017 offering insights into future market behavior, especially when combined with more recent data.\n",
    "#### 3. Data Completeness and Quality:\n",
    "Comprehensive Dataset: Despite its age, the dataset is relatively complete, containing diverse features like pricing, host information, and reviews. This makes it a rich data source that may be more comprehensive than newer datasets, which could be more fragmented.\n",
    "Data Availability: Finding a dataset that is both up-to-date and complete can be challenging. If more recent datasets are missing key features, this dataset provides a solid, all-encompassing foundation for analysis.\n",
    "#### 4. Understanding Past Market Conditions:\n",
    "Segmenting the Market: For those interested in analyzing the Airbnb market from 2015-2017, this data is crucial. It offers a clear view of how hosts and customers interacted during this period, helping to identify market segments, key growth areas, and strategies that can be applied today."
   ]
  },
  {
   "cell_type": "markdown",
   "id": "5c4ba762-cb42-4dcd-8a4c-f80a48269ab1",
   "metadata": {},
   "source": [
    "## 3. Variables and Their Distributions"
   ]
  },
  {
   "cell_type": "markdown",
   "id": "b2a73982-30a4-4e54-8ab5-833e2a0bab3f",
   "metadata": {},
   "source": [
    "For feature selection, understanding the distributions of variables is crucial. We will analyze both numerical and categorical variables."
   ]
  },
  {
   "cell_type": "markdown",
   "id": "53f01a34-c325-42ed-86ba-178aadc89920",
   "metadata": {},
   "source": [
    "### a. Numerical variables - Descriptive Statistics and Distribution Plots"
   ]
  },
  {
   "cell_type": "markdown",
   "id": "771e0195",
   "metadata": {},
   "source": [
    "# Display summary statistics for numerical columns"
   ]
  },
  {
   "cell_type": "code",
   "execution_count": null,
   "id": "d74a0087",
   "metadata": {},
   "outputs": [],
   "source": [
    "df.describe()"
   ]
  },
  {
   "cell_type": "code",
   "execution_count": null,
   "id": "0fb79299-8b75-4507-bff8-db504e81cb6d",
   "metadata": {},
   "outputs": [],
   "source": [
    "# Display summary statistics for numerical columns\n",
    "df.describe()\n",
    "\n",
    "# Plot histograms for numerical variables\n",
    "df.hist(bins=20, figsize=(15, 10))\n",
    "plt.tight_layout()\n",
    "plt.show()\n",
    "\n",
    "# Plot individual distributions for key numerical variables like Price\n",
    "sns.histplot(df['Price'], kde=True)\n",
    "plt.title('Price Distribution')\n",
    "plt.show()\n"
   ]
  },
  {
   "cell_type": "markdown",
   "id": "d7dafeae-cf74-4df4-b7f2-54b9d16bcdf9",
   "metadata": {},
   "source": [
    "### b. Categorical variables - Frequency distribution"
   ]
  },
  {
   "cell_type": "code",
   "execution_count": null,
   "id": "857a5247-d041-4f6e-a330-09274fa57a9c",
   "metadata": {
    "scrolled": true
   },
   "outputs": [],
   "source": [
    "# Plot the frequency of categorical variables\n",
    "\n",
    "##CONSIDER REMOVING THIS PART\n",
    "#categorical_cols = df.select_dtypes(include=['object']).columns\n",
    "\n",
    "#for col in categorical_cols:\n",
    "#    plt.figure(figsize=(10, 5))\n",
    "#    df[col].value_counts().plot(kind='bar')\n",
    "#    plt.title(f'{col} Distribution')\n",
    "#    plt.xlabel(col)\n",
    "#    plt.ylabel('Count')\n",
    "#    plt.xticks(rotation=90)\n",
    "#    plt.show()\n"
   ]
  },
  {
   "cell_type": "markdown",
   "id": "689145fc-325b-4ec3-ac56-26851bb72689",
   "metadata": {},
   "source": [
    "# Summary and Description of Variables and Their Distributions\n",
    "\n",
    "The dataset includes both numerical and categorical variables, each with its own distribution. Below is a summary and description of the numerical variables and their distributions, as well as a look at the categorical variables.\n",
    "\n",
    "## Numerical Variables: Distribution Summary\n",
    "\n",
    "#### 1. Host Response Rate:\n",
    "- **Count**: 379,884\n",
    "- **Mean**: 93.38%\n",
    "- **Min**: 0%\n",
    "- **Max**: 100%\n",
    "- **Distribution**: The response rate is heavily concentrated around 100%, with most hosts being highly responsive. However, there are some hosts with 0% response rates, indicating that some hosts might not respond to queries at all.\n",
    "\n",
    "#### 2. Host Listings Count:\n",
    "- **Count**: 494,449\n",
    "- **Mean**: 9.55\n",
    "- **Min**: 0\n",
    "- **Max**: 1,114\n",
    "- **Distribution**: Most hosts have only a few listings (e.g., 1 or 2), but there are some hosts with a significantly higher number of listings, suggesting the presence of professional hosts or property managers.\n",
    "\n",
    "#### 3. Accommodates:\n",
    "- **Count**: 494,891\n",
    "- **Mean**: 3.31\n",
    "- **Min**: 1\n",
    "- **Max**: 21\n",
    "- **Distribution**: The majority of listings accommodate 1 to 4 guests, with the distribution heavily skewed towards smaller accommodations.\n",
    "\n",
    "#### 4. Bathrooms, Bedrooms, and Beds:\n",
    "- **Bathrooms**: Mean: 1.25, Max: 10\n",
    "- **Bedrooms**: Mean: 1.38, Max: 96\n",
    "- **Beds**: Mean: 1.93, Max: 19\n",
    "- **Distribution**: These variables follow similar distributions, with most properties having between 1-3 bedrooms, bathrooms, and beds. Outliers with higher numbers of bedrooms or beds indicate larger properties, such as mansions or multi-bedroom apartments.\n",
    "\n",
    "#### 5. Price:\n",
    "- **Count**: 486,996\n",
    "- **Mean**: 138\n",
    "- **Min**: 0\n",
    "- **Max**: 999\n",
    "- **Distribution**: The price distribution is likely right-skewed, with most listings being affordable or moderately priced, and fewer listings priced extremely high (luxury listings).\n",
    "\n",
    "#### 6. Review Scores (Accuracy, Cleanliness, Checkin, etc.):\n",
    "- **Range**: All review scores (Accuracy, Cleanliness, Communication, etc.) are between 2 and 10, with most scores being around 9-10.\n",
    "- **Distribution**: Review scores are heavily concentrated at the higher end (9-10), suggesting that most listings have good reviews. This might reflect self-selection, where only well-performing listings remain on the platform.\n",
    "\n",
    "#### 7. Number of Reviews:\n",
    "- **Count**: 494,952\n",
    "- **Mean**: 16.74\n",
    "- **Max**: 735 reviews\n",
    "- **Distribution**: Most listings have fewer reviews, but a small number have a very high number of reviews, indicating popular or long-established listings.\n",
    "\n",
    "#### 8. Reviews per Month:\n",
    "- **Mean**: 1.48\n",
    "- **Min**: 0.01\n",
    "- **Max**: 223\n",
    "- **Distribution**: There is a small number of highly active listings with many reviews per month, while the majority have far fewer reviews.\n",
    "\n",
    "## Categorical Variables: Frequency Distribution\n",
    "\n",
    "1. **Room Type**  \n",
    "   Common categories include Entire Home/Apt, Private Room, and Shared Room.  \n",
    "   **Distribution**: The majority of listings are either \"Entire Home/Apt\" or \"Private Room,\" with \"Shared Room\" being the least frequent.\n",
    "\n",
    "2. **Host Location**  \n",
    "   This includes various cities or countries, with major cities such as New York, London, and Paris being common locations.  \n",
    "   **Distribution**: The distribution is concentrated in well-known cities, with a smaller number of listings in less popular locations.\n",
    "\n",
    "3. **Property Type**  \n",
    "   Categories include Apartment, House, Condo, Loft, and others.  \n",
    "   **Distribution**: Apartment and House categories dominate, while more specialized property types like Cabin or Villa are less common.\n",
    "\n",
    "4. **Cancellation Policy**  \n",
    "   Categories include Flexible, Moderate, and Strict.  \n",
    "   **Distribution**: Flexible and moderate policies are more frequent, with fewer listings offering strict cancellation policies.\n",
    "\n",
    "5. **Smart Location, Country, and Neighborhood**  \n",
    "   These variables represent information about where the listing is located, including regions, cities, or countries.  \n",
    "   **Distribution**: The dataset shows a concentration of listings in popular cities or regions, particularly those with high Airbnb demand.\n",
    "\n",
    "#### Conclusion:\n",
    "\n",
    "The numerical variables show a wide range of values and distributions, with host listings count, price, and reviews per month having both concentrated and extreme values. The categorical variables offer rich, qualitative insights into the types of listings and host locations, with a clear concentration in popular cities and property types. Understanding these distributions is essential for making informed decisions about which features to prioritize in analysis or predictive modeling.\n"
   ]
  },
  {
   "cell_type": "markdown",
   "id": "003af1ea-f64b-4c64-9579-460de36c3214",
   "metadata": {},
   "source": [
    "## 4. Anomalies - Outliers "
   ]
  },
  {
   "cell_type": "markdown",
   "id": "790f4d48-0a3b-4df2-9213-51ba080c840d",
   "metadata": {},
   "source": [
    "Outliers can distort the predictive accuracy of machine learning models, so detecting them is essential. In this case, boxplot was used for this purpose."
   ]
  },
  {
   "cell_type": "markdown",
   "id": "c0ed394f-d2d1-47ee-9f3d-04e541a92291",
   "metadata": {},
   "source": [
    "### Detecting outliers using boxplots"
   ]
  },
  {
   "cell_type": "code",
   "execution_count": null,
   "id": "5da4b33f-462a-456b-9204-27df69fad82d",
   "metadata": {
    "scrolled": true
   },
   "outputs": [],
   "source": [
    "# Plot boxplots to identify outliers in numerical columns\n",
    "numerical_cols = df.select_dtypes(include=['float64', 'int64']).columns\n",
    "\n",
    "for col in numerical_cols:\n",
    "    plt.figure(figsize=(8, 6))\n",
    "    sns.boxplot(x=df[col])\n",
    "    plt.title(f'{col} Boxplot')\n",
    "    plt.show()\n"
   ]
  },
  {
   "cell_type": "code",
   "execution_count": null,
   "id": "25e16365-6505-44b4-b82f-9e9e12129241",
   "metadata": {
    "scrolled": true
   },
   "outputs": [],
   "source": [
    "# Calculate IQR for each numerical column\n",
    "Q1 = df[numerical_cols].quantile(0.25)\n",
    "Q3 = df[numerical_cols].quantile(0.75)\n",
    "IQR = Q3 - Q1\n",
    "\n",
    "# Define outliers as values outside the range (Q1 - 1.5 * IQR, Q3 + 1.5 * IQR)\n",
    "lower_bound = Q1 - 1.5 * IQR\n",
    "upper_bound = Q3 + 1.5 * IQR\n",
    "\n",
    "# Identify outliers\n",
    "outliers_iqr = ((df[numerical_cols] < lower_bound) | (df[numerical_cols] > upper_bound))\n",
    "\n",
    "# Print the number of outliers for each column\n",
    "# Count total outliers for each numerical column\n",
    "print(\"\\nOutliers detected using IQR method:\")\n",
    "print(outliers_iqr.sum())\n"
   ]
  },
  {
   "cell_type": "markdown",
   "id": "38d91ae2-c8e3-47b4-8e29-9f0f992192b5",
   "metadata": {},
   "source": [
    "# Description of Outliers Detected Using the IQR Method\n",
    "\n",
    "The outlier detection using the **Interquartile Range (IQR)** method has identified a number of variables with values outside the expected range, indicating potential outliers in the dataset. Below is a description of each of the variables with detected outliers and their potential implications.\n",
    "\n",
    "---\n",
    "\n",
    "### 1. **Host Response Rate** (81,366 outliers):\n",
    "- **Description**: The `Host Response Rate` is the percentage of queries a host responds to. A significant number of outliers in this column might indicate either hosts with **extremely low response rates** (near 0%) or those with **perfect response rates** (100%).\n",
    "- **Implication**: Extreme response rates may be caused by hosts who are either inactive or highly responsive, which might not reflect typical host behavior. These outliers should be further investigated.\n",
    "\n",
    "### 2. **Host Listings Count** and **Host Total Listings Count** (63,362 outliers):\n",
    "- **Description**: These columns represent the number of listings hosted by a particular individual. The presence of outliers in these columns suggests that some hosts may have a significantly larger number of listings than others.\n",
    "- **Implication**: Professional property managers or large-scale hosts may dominate this space, having many more listings than typical hosts. These outliers might need special handling if you’re analyzing listings on an individual basis.\n",
    "\n",
    "### 3. **Accommodates** (24,433 outliers):\n",
    "- **Description**: The `Accommodates` column represents the number of people a listing can host. Outliers in this column might indicate extremely large or unusually small accommodations.\n",
    "- **Implication**: A small number of outliers with very high values (e.g., 20+ guests) might correspond to large homes or event spaces, while outliers with low values might correspond to listings with very limited accommodations, like small rooms.\n",
    "\n",
    "### 4. **Bathrooms, Bedrooms, and Beds** (114,272, 18,020, and 57,328 outliers):\n",
    "- **Description**: These columns represent the number of bathrooms, bedrooms, and beds in each listing. Outliers suggest that some listings have unusual configurations of these features, such as a very high number of bathrooms, bedrooms, or beds.\n",
    "- **Implication**: These outliers likely correspond to larger properties, such as villas, mansions, or multi-bedroom apartments. In such cases, understanding the distribution of these outliers could help in pricing or segmentation.\n",
    "\n",
    "### 5. **Square Feet** (393 outliers):\n",
    "- **Description**: This column represents the size of the property. The outliers here are likely to be listings with extremely large or very small properties.\n",
    "- **Implication**: Large outliers could indicate luxury properties, while smaller outliers might suggest atypically small living spaces. These extreme values should be reviewed, particularly if you're performing price-based analysis.\n",
    "\n",
    "### 6. **Price** (48,906 outliers):\n",
    "- **Description**: The `Price` column contains the nightly cost of renting the listing. Outliers here often indicate **luxury properties** or **erroneous data** (e.g., listings with very low or very high prices).\n",
    "- **Implication**: A small number of listings might have extremely high prices, possibly due to luxury properties or data input errors. Such outliers should be handled carefully, especially if the goal is to predict prices for a typical listing.\n",
    "\n",
    "### 7. **Weekly Price and Monthly Price** (0 and 8,648 outliers):\n",
    "- **Description**: These columns represent the cost of the listing for a week or a month. A lack of values for the **Weekly Price** (0 outliers) could suggest that this feature is missing for most listings. **Monthly Price** outliers represent a few listings with very high monthly prices.\n",
    "- **Implication**: The absence of weekly prices for most listings indicates that this feature is not commonly used, while the monthly price outliers might indicate properties with extreme rates or large discrepancies in pricing.\n",
    "\n",
    "### 8. **Security Deposit and Cleaning Fee** (7,518 and 20,997 outliers):\n",
    "- **Description**: These columns represent additional charges for the property. Outliers may indicate unusually high security deposits or cleaning fees for specific properties.\n",
    "- **Implication**: Properties with very high security deposits or cleaning fees might be luxury or high-maintenance properties. These fees could also reflect anomalies in data reporting.\n",
    "\n",
    "### 9. **Guests Included and Extra People** (40,629 and 34,474 outliers):\n",
    "- **Description**: These columns represent the number of guests included in the base price and the cost for extra guests. Outliers in these values might indicate large accommodations with high additional charges for extra guests.\n",
    "- **Implication**: Listings with a high number of extra guests or a large guest base should be examined, as they may suggest large venues or event spaces, which could influence pricing.\n",
    "\n",
    "### 10. **Minimum Nights and Maximum Nights** (38,496 and 703 outliers):\n",
    "- **Description**: These columns define the minimum and maximum stay required by the host. Outliers suggest that some listings have unusually high or low stay requirements.\n",
    "- **Implication**: Properties with high minimum or maximum nights could correspond to specific event spaces or unique listings with special rules.\n",
    "\n",
    "### 11. **Availability 30, Availability 60, Availability 90, Availability 365** (0 outliers):\n",
    "- **Description**: These columns represent the availability of listings over different time frames. A value of 0 in these columns might suggest that the listing is not available for booking.\n",
    "- **Implication**: These outliers could indicate listings that are either permanently unavailable or those with unavailable booking data.\n",
    "\n",
    "### 12. **Number of Reviews** (55,580 outliers):\n",
    "- **Description**: This column indicates the total number of reviews for each listing. Outliers here suggest some listings have a very high number of reviews.\n",
    "- **Implication**: Listings with high numbers of reviews are often long-established or very popular. These outliers should be considered in the context of host engagement and listing activity.\n",
    "\n",
    "### 13. **Review Scores (Rating, Accuracy, Cleanliness, Checkin, Communication, Location, Value)** (Outliers ranging from 7,518 to 11,020):\n",
    "- **Description**: These columns represent various ratings given by guests. Outliers suggest that certain listings have unusually high or low scores in specific categories.\n",
    "- **Implication**: Listings with outlier review scores, especially those with very low ratings, may need closer inspection. These could reflect exceptional listings with very high guest satisfaction or problematic listings that received poor reviews.\n",
    "\n",
    "### 14. **Calculated Host Listings Count** (89,056 outliers):\n",
    "- **Description**: This column represents the total number of listings a host has, calculated from their host profile. Outliers here suggest some hosts manage a very large number of listings.\n",
    "- **Implication**: Professional hosts or property managers are likely represented in the outliers, and the extreme values might need to be treated separately for more accurate analysis.\n",
    "\n",
    "### 15. **Reviews per Month** (22,630 outliers):\n",
    "- **Description**: This column represents the number of reviews a listing receives on average each month. Outliers here could suggest listings that receive a very high number of reviews on a regular basis.\n",
    "- **Implication**: Listings with a high number of reviews per month are likely highly popular or have been on the platform for a long time. These should be considered when assessing engagement and pricing.\n",
    "\n",
    "\n",
    "### Conclusion:\n",
    "The IQR method has detected many outliers across various variables in the dataset, with some columns having unusually high or low values. These outliers often correspond to listings with specific characteristics, such as luxury properties, large accommodations, or highly active hosts. It is important to handle these outliers appropriately as they might significantly impact certain modeling techniques or analyses.\n"
   ]
  },
  {
   "cell_type": "markdown",
   "id": "d26561e7",
   "metadata": {},
   "source": [
    "## Data Cleaning "
   ]
  },
  {
   "cell_type": "markdown",
   "id": "2f20235d-5c64-4fac-a84d-efbeba703aae",
   "metadata": {},
   "source": [
    "#### 1. Removal of columns with high missing values:\n",
    "We will deal with columns with high missing values by removing them from the dataframe."
   ]
  },
  {
   "cell_type": "code",
   "execution_count": null,
   "id": "11310e2a-93ce-4224-9b02-1b20779fd615",
   "metadata": {},
   "outputs": [],
   "source": [
    "cols_to_drop = [\"Space\", \"Neighborhood Overview\", \"Notes\", \"Transit\", \"Access\", \n",
    "                \"Interaction\", \"House Rules\", \"Host About\", \"Host Acceptance Rate\",\n",
    "                \"Neighbourhood Group Cleansed\", \"Square Feet\", \"Weekly Price\", \n",
    "                \"Monthly Price\", \"Security Deposit\", \"Cleaning Fee\", \"License\", \"Jurisdiction Names\", \"Has Availability\"]\n",
    "\n",
    "df.drop(columns=cols_to_drop, inplace=True)\n"
   ]
  },
  {
   "cell_type": "markdown",
   "id": "a9a28065-c611-4f63-ad5d-0cbf6e4ff957",
   "metadata": {},
   "source": [
    "#### 1a. Removal of ID and URL columns:\n",
    "We'll drop these columns as well since they won't add any predictive power to our models."
   ]
  },
  {
   "cell_type": "code",
   "execution_count": null,
   "id": "0a73ccbc-d3ef-441a-89a0-ce829e31ff94",
   "metadata": {},
   "outputs": [],
   "source": [
    "df.drop(columns=['Thumbnail Url', 'Medium Url', 'Picture Url', 'XL Picture Url', \n",
    "                 'Host Thumbnail Url', 'Host Picture Url', 'ID','Listing Url', 'Scrape ID', 'Host ID',\n",
    "                'Host URL'], inplace=True)"
   ]
  },
  {
   "cell_type": "markdown",
   "id": "69d75745",
   "metadata": {},
   "source": [
    "#### 1b. Removal of other text based columns:\n",
    "We dropped Name, Description, and Summary since noise would be present if they are encoded by their mean price in Mean Target Encoding. Geolocation is also removed since it leads to redundancy and could lead to overfitting due to being highly correlated to Price. "
   ]
  },
  {
   "cell_type": "code",
   "execution_count": null,
   "id": "335faa9a",
   "metadata": {},
   "outputs": [],
   "source": [
    "df = df.drop(columns=['Name', 'Description', 'Summary', 'Geolocation'])"
   ]
  },
  {
   "cell_type": "markdown",
   "id": "badc8f34-b305-4feb-ae84-582cd6e1c864",
   "metadata": {},
   "source": [
    "#### 2. Perform Data Imputation for columns with low to moderate missing values:\n",
    "We will deal with these columns by imputing median and modes or other appropriate values."
   ]
  },
  {
   "cell_type": "code",
   "execution_count": null,
   "id": "4472f3a9-9565-4913-abbc-bed2962aac16",
   "metadata": {},
   "outputs": [],
   "source": [
    "# fill missing cols with appropriate values\n",
    "categorical_fill_values = {\n",
    "    \"Host Response Time\": \"Unknown\",\n",
    "    \"Host Neighbourhood\": \"Unknown\",\n",
    "    \"State\": df[\"State\"].mode(dropna=True)[0] if \"State\" in df.columns else \"Unknown\",\n",
    "    \"Zipcode\": df[\"Zipcode\"].mode(dropna=True)[0] if \"Zipcode\" in df.columns else \"00000\",\n",
    "    \"Market\": df[\"Market\"].mode(dropna=True)[0] if \"Market\" in df.columns else \"Unknown\",\n",
    "    #\"Name\": \"Unnamed Listing\",\n",
    "    #\"Summary\": \"No description\",\n",
    "    #\"Description\": \"No description\",\n",
    "    \"Property Type\": df[\"Property Type\"].mode(dropna=True)[0] if \"Property Type\" in df.columns else \"Other\",\n",
    "    \"Room Type\": df[\"Room Type\"].mode(dropna=True)[0] if \"Room Type\" in df.columns else \"Unknown\",\n",
    "}\n",
    "\n",
    "for col, value in categorical_fill_values.items():\n",
    "    if col in df.columns:\n",
    "        df[col] = df[col].fillna(value)\n",
    "\n",
    "# specify the column names to fill with median values\n",
    "numerical_fill_values = [\"Host Response Rate\", \"Bathrooms\", \"Bedrooms\", \"Beds\", \"Price\"]\n",
    "\n",
    "for col in numerical_fill_values:\n",
    "    if col in df.columns:\n",
    "        df[col] = df[col].fillna(df[col].median(skipna=True))\n",
    "\n",
    "# fill review-related numerical columns with median\n",
    "review_cols = [\n",
    "    \"Review Scores Rating\", \"Review Scores Accuracy\", \"Review Scores Cleanliness\",\n",
    "    \"Review Scores Checkin\", \"Review Scores Communication\", \"Review Scores Location\",\n",
    "    \"Review Scores Value\"\n",
    "]\n",
    "\n",
    "for col in review_cols:\n",
    "    if col in df.columns:\n",
    "        df[col] = df[col].fillna(df[col].median(skipna=True))\n",
    "\n",
    "# fill Reviews per Month with 0 since missing most likely means there weren't any reviews\n",
    "if \"Reviews per Month\" in df.columns:\n",
    "    df[\"Reviews per Month\"] = df[\"Reviews per Month\"].fillna(0)\n",
    "\n",
    "\n",
    "# fill availability columns\n",
    "availability_cols = ['Availability 30', 'Availability 60', 'Availability 90', 'Availability 365']\n",
    "df[availability_cols] = df[availability_cols].fillna(0)\n",
    "\n",
    "# fill remaining columns with appropriate values\n",
    "df['Host Name'] = df['Host Name'].fillna(\"Unknown\")\n",
    "df['Host Since'] = df['Host Since'].fillna(\"Unknown\")\n",
    "df['Host Location'] = df['Host Location'].fillna(\"Unknown\")\n",
    "df['Street'] = df['Street'].fillna(\"Unknown\")\n",
    "df['Neighbourhood'] = df['Neighbourhood'].fillna(\"Unknown\")\n",
    "df['Neighbourhood Cleansed'] = df['Neighbourhood Cleansed'].fillna(df['Neighbourhood Cleansed'].mode()[0])\n",
    "df['City'] = df['City'].fillna(df['City'].mode()[0])\n",
    "df['Smart Location'] = df['Smart Location'].fillna(\"Unknown\")\n",
    "df['Country Code'] = df['Country Code'].fillna(df['Country Code'].mode()[0])\n",
    "df['Country'] = df['Country'].fillna(df['Country'].mode()[0])\n",
    "df['Cancellation Policy'] = df['Cancellation Policy'].fillna(df['Cancellation Policy'].mode()[0])\n",
    "df['Features'] = df['Features'].fillna(\"None\")\n",
    "df['Latitude'] = df['Latitude'].fillna(df['Latitude'].median())\n",
    "df['Longitude'] = df['Longitude'].fillna(df['Longitude'].median())\n",
    "df['Accommodates'] = df['Accommodates'].fillna(df['Accommodates'].median())\n",
    "df['Guests Included'] = df['Guests Included'].fillna(df['Guests Included'].median())\n",
    "df['Extra People'] = df['Extra People'].fillna(df['Extra People'].median())\n",
    "df['Minimum Nights'] = df['Minimum Nights'].fillna(df['Minimum Nights'].median())\n",
    "df['Maximum Nights'] = df['Maximum Nights'].fillna(df['Maximum Nights'].median())\n",
    "df['Number of Reviews'] = df['Number of Reviews'].fillna(0)\n",
    "df['Host Listings Count'] = df['Host Listings Count'].fillna(0)\n",
    "df['Host Total Listings Count'] = df['Host Total Listings Count'].fillna(0)\n",
    "df['Calculated host listings count'] = df['Calculated host listings count'].fillna(0)\n",
    "df['Last Scraped'] = df['Last Scraped'].fillna(\"2016-01-01\")\n",
    "df['Host Verifications'] = df['Host Verifications'].fillna(\"Unknown\")  \n",
    "df['Bed Type'] = df['Bed Type'].fillna(df['Bed Type'].mode()[0])\n",
    "df['Amenities'] = df['Amenities'].fillna(\"No Amenities\")\n",
    "df['Calendar Updated'] = df['Calendar Updated'].fillna(\"Unknown\")\n",
    "df['Calendar last Scraped'] = df['Calendar last Scraped'].fillna(\"2016-01-01\")\n",
    "df['First Review'] = df['First Review'].fillna(\"2016-01-01\")\n",
    "df['Last Review'] = df['Last Review'].fillna(\"2016-01-01\")\n",
    "#df['Geolocation'] = df['Geolocation'].fillna(\"0, 0\")"
   ]
  },
  {
   "cell_type": "markdown",
   "id": "8e93bd32-4767-4fab-bd4d-ce282ef90fd9",
   "metadata": {},
   "source": [
    "### Missing Data Handling and Imputation Strategy\n",
    "\n",
    "After detecting missing data and identifying outliers in our dataset, we determined that a combination of dropping irrelevant or problematic columns and imputing values for columns with low to moderate missing data would be the most effective approach. This allowed us to retain valuable information while removing features that either contributed little to the analysis or contained excessive missing values. By dropping unnecessary columns and imputing missing values, we ensured the integrity of the dataset and minimized data loss, which could negatively impact our analysis and model predictions.\n",
    "\n",
    "Below are the specific imputation strategies we employed, along with the columns we chose to drop and the reasoning behind these decisions:\n",
    "\n",
    "#### Categorical Variables\n",
    "For categorical columns like \"Host Response Time,\" \"Host Neighbourhood,\" \"State,\" and \"Market,\" we imputed missing values with the most common (mode) value or a placeholder like \"Unknown\" when appropriate. This ensures that these columns retain their categorical nature, preventing the introduction of bias or skew in our models. For example, in the case of \"State\" or \"Zipcode,\" using the mode ensures that the imputed values represent the most common responses, making the dataset more representative.\n",
    "\n",
    "#### Numerical Variables\n",
    "For numerical columns such as \"Host Response Rate,\" \"Bathrooms,\" \"Bedrooms,\" \"Beds,\" and \"Price,\" we used the median to fill missing values. The median was chosen because it is less sensitive to outliers compared to the mean, which helps preserve the integrity of the dataset. This approach is particularly suitable for numerical columns where extreme values or outliers could distort the overall distribution.\n",
    "\n",
    "#### Review Scores\n",
    "Missing values in review-related columns like \"Review Scores Rating,\" \"Review Scores Accuracy,\" and others were also imputed using the median, following the same rationale as for other numerical variables. This ensures that the review data is complete, enabling us to maintain consistency in evaluating the listings.\n",
    "\n",
    "#### Reviews per Month\n",
    "We imputed missing values in the \"Reviews per Month\" column with 0, based on the assumption that missing values likely indicate listings with no reviews. This helps ensure that the column reflects the true activity for each listing.\n",
    "\n",
    "#### Availability Columns\n",
    "For availability columns such as 'Availability 30' and 'Availability 365,' we filled missing values with 0, as a missing value here likely means no availability was recorded.\n",
    "\n",
    "#### Other Remaining Columns\n",
    "For other columns like \"Host Name,\" \"Host Since,\" \"Street,\" and \"Neighbourhood,\" we filled missing values with default placeholders such as \"Unknown\" or used the mode for specific columns like \"Neighbourhood Cleansed\" and \"City.\" This is to ensure that we don’t lose any data and keep the dataset structured without introducing inaccuracies.\n",
    "\n",
    "#### Geolocation\n",
    "While we didn't impute \"Geolocation\" in this case, we would typically fill missing values with a default value (e.g., \"0,0\") if needed, to preserve the column for any spatial analysis, even if the actual geolocation data is unavailable.\n",
    "\n",
    "By performing data imputation in this way, we ensured that our dataset remained comprehensive and usable for predictive modeling, analysis, and machine learning tasks. This approach allows us to handle missing data without dropping potentially valuable features, helping us build more robust models while preserving the quality of the data.\n"
   ]
  },
  {
   "cell_type": "code",
   "execution_count": null,
   "id": "8bae24fa-0948-40f6-ba26-dd243a4d3d41",
   "metadata": {},
   "outputs": [],
   "source": [
    "# confirm that all missing values have been successfully imputed\n",
    "print(df.isnull().sum().sum())"
   ]
  },
  {
   "cell_type": "code",
   "execution_count": null,
   "id": "efa875f6-883a-476f-9c5a-8f2ae1deecbf",
   "metadata": {},
   "outputs": [],
   "source": [
    "# export cleaned data\n",
    "df.to_csv('data/airbnb-listings_cleaned.csv', index=False)"
   ]
  },
  {
   "cell_type": "markdown",
   "id": "e3a23c2a-ac16-4924-a505-ca003196bbe7",
   "metadata": {},
   "source": [
    "# 3. Relationships"
   ]
  },
  {
   "cell_type": "markdown",
   "id": "42d5502c-56c5-486b-bcfa-a1e43719044c",
   "metadata": {},
   "source": [
    "### a. Correlations\n",
    "We converted categorical and datetime variables to numerical values with feature encoding. Then, we used Mean Target Encoding to substitute each category with the mean price of that category for all the categorical variables. In order represent the datetime variables in a numerical format, we converted them to Unix timestamps. A correlation matrix heatmap is then created to notice the connections among the various variables in the dataset and correlations are then found among the variables with the target variable Price. "
   ]
  },
  {
   "cell_type": "code",
   "execution_count": null,
   "id": "7f25055c-400e-4208-b650-cc8c572447a1",
   "metadata": {
    "scrolled": true
   },
   "outputs": [],
   "source": [
    "categorical_cols = df.select_dtypes(include=['object']).columns\n",
    "df_le = df.copy()\n",
    "for col in categorical_cols:\n",
    "    le = LabelEncoder()\n",
    "    df_le[col] = df_le.groupby(col)['Price'].transform('mean')\n",
    "datetime_column = df.select_dtypes(include=['datetime64']).columns\n",
    "for col in datetime_column:\n",
    "    df_le[col] = df_le[col].astype('int64') // 10**9"
   ]
  },
  {
   "cell_type": "code",
   "execution_count": null,
   "id": "e6f70128-d528-4367-b556-4dd86d363787",
   "metadata": {},
   "outputs": [],
   "source": [
    "corr_matrix = df_le.corr()\n",
    "sns.heatmap(corr_matrix)\n",
    "\n",
    "# Set the title of the plot\n",
    "plt.title('Correlation Heatmap of Transformed Features with Price', fontsize=12)\n",
    "plt.show()"
   ]
  },
  {
   "cell_type": "markdown",
   "id": "347c8469-b6b9-43f6-a3df-0e16ab7e17b2",
   "metadata": {},
   "source": [
    "#### 1. Explanation on Correlations among Variables with target variable Price\n",
    "We found the absolute correlations among features with the target variable called Price to find the most correlated variables. Stronger connections to Price are represented by higher correlation values and this can aid in selecting features for modeling driven by data. "
   ]
  },
  {
   "cell_type": "code",
   "execution_count": null,
   "id": "59a8576d-4c45-4a1a-8b5b-8e2fb04b058f",
   "metadata": {},
   "outputs": [],
   "source": [
    "#Correlations of other variables with Target Variable called Price\n",
    "price_corr = corr_matrix['Price'].abs().sort_values(ascending=False)\n",
    "price_corr[1:31]"
   ]
  },
  {
   "cell_type": "code",
   "execution_count": null,
   "id": "9b70d51b-24f5-4d2e-a720-e679a7396abb",
   "metadata": {},
   "outputs": [],
   "source": [
    "# Encode categorical features with mean price\n",
    "categorical_cols = df.select_dtypes(include=['object']).columns\n",
    "df_le = df.copy()\n",
    "for col in categorical_cols:\n",
    "    le = LabelEncoder()\n",
    "    df_le[col] = df_le.groupby(col)['Price'].transform('mean')\n",
    "\n",
    "# Convert datetime columns to integer format (seconds since epoch)\n",
    "datetime_column = df.select_dtypes(include=['datetime64']).columns\n",
    "for col in datetime_column:\n",
    "    df_le[col] = df_le[col].astype('int64') // 10**9\n",
    "\n",
    "# Compute the correlation matrix\n",
    "corr_matrix = df_le.corr()\n",
    "\n",
    "# Select the correlations of other variables with the target variable \"Price\"\n",
    "price_corr = corr_matrix['Price'].abs().sort_values(ascending=False)\n",
    "\n",
    "# Select top 30 correlations excluding the target variable itself\n",
    "top_30_corr = price_corr[1:31]\n",
    "\n",
    "# Plot the correlation bar chart\n",
    "plt.figure(figsize=(12, 8))\n",
    "top_30_corr.plot(kind='barh', color='lightcoral')\n",
    "plt.title('Top 30 Correlations with Price', fontsize=16)\n",
    "plt.xlabel('Correlation', fontsize=12)\n",
    "plt.ylabel('Variables', fontsize=12)\n",
    "plt.show()\n"
   ]
  },
  {
   "cell_type": "markdown",
   "id": "bb212b6e-0614-4753-861f-8fc9022c0e21",
   "metadata": {},
   "source": [
    "The correlation analysis of various variables with the target variable, \"Price,\" reveals some clear trends regarding what influences property prices. The strongest correlations are observed in Amenities (0.91) and Street (0.76). Properties with more or higher-quality amenities, as well as those located on desirable streets, tend to have significantly higher prices. This suggests that both the physical features of the property and its location play major roles in determining its value.\n",
    "\n",
    "Other location-based variables, such as Neighbourhood Cleansed (0.65), Smart Location (0.64), City (0.64), and Zipcode (0.63), also show strong positive correlations with price. This indicates that properties in well-maintained neighborhoods, areas with advanced technological features, and high-demand cities or zip codes are generally priced higher. Additionally, the Host Location (0.62) and the Calendar Last Scraped (0.61) further highlight the importance of the host’s location and the timing of the data, as these aspects appear to have a significant effect on pricing.\n",
    "\n",
    "Moderately strong correlations are seen in variables like Market (0.60), Host Neighbourhood (0.56), and Host Name (0.53). These suggest that market conditions, the host's reputation, and the general affluence of the host’s neighborhood contribute to higher prices, although to a lesser extent than location and amenities.\n",
    "\n",
    "In contrast, the correlations for factors such as Accommodates (0.35), Bedrooms (0.34), and Room Type (0.30), while still meaningful, are weaker. These variables indicate that the size of the property or the type of room can influence price, but not as significantly as location and amenities. The impact of Last Review (0.28), Beds (0.28), and other features like Bathrooms (0.24) and Extra People (0.23) is relatively minor, showing that these factors have a lesser effect on pricing.\n",
    "\n",
    "In summary, the analysis highlights that location, amenities, and market conditions are the most significant drivers of price, while the size of the property, host reputation, and other features have a smaller, but still relevant, impact. The top 30 variables show varying degrees of influence, with the strongest correlations coming from factors related to location, amenities, and host-related attributes."
   ]
  },
  {
   "cell_type": "markdown",
   "id": "2ecfeec0-1f32-44df-b9de-cf70e49074f0",
   "metadata": {},
   "source": [
    "### b. Feature Importances\n",
    "We split the dataset into training and testing sets such that 80% of the data is training and 20% is testing. We then trained a Random Forest Regressor to find feature importances and the notebook displays the top 20 most significant features from this model being trained. "
   ]
  },
  {
   "cell_type": "code",
   "execution_count": null,
   "id": "9129c54d-0085-4dbc-8c72-d2b863d26cf3",
   "metadata": {},
   "outputs": [],
   "source": [
    "#Splitting data for Feature Importances\n",
    "X = df_le.drop('Price', axis=1)\n",
    "y = df_le['Price']\n",
    "X_train, X_test, y_train, y_test = train_test_split(X,y,test_size=0.2, random_state=42)\n"
   ]
  },
  {
   "cell_type": "code",
   "execution_count": null,
   "id": "a9d8b679-0a66-4b1b-b490-da1b8f331ba5",
   "metadata": {},
   "outputs": [],
   "source": [
    "rf = RandomForestRegressor(n_estimators=50, random_state=42, n_jobs=-1)\n",
    "rf.fit(X_train, y_train)"
   ]
  },
  {
   "cell_type": "markdown",
   "id": "013c08ee-5d4c-4780-9e32-798d0dcfd287",
   "metadata": {},
   "source": [
    "#### 1. Explanation on Random Forest Feature Importance\n",
    "Here are the feature importances for the top 20 most important variables in predicting Airbnb prices using a Random Forest Regressor. The price estimation of this model is more influenced by higher feature importances. As a result, based on these feature importances, Amenities is considered the most important feature followd by Street and Host Name. These results can help in enabling predictive performance to be better and in selecting features. "
   ]
  },
  {
   "cell_type": "code",
   "execution_count": null,
   "id": "dbcc5499-f157-4e2d-a3aa-7f5632b70cd1",
   "metadata": {},
   "outputs": [],
   "source": [
    "rf_im_df = pd.DataFrame({'feature': X.columns, 'importance': rf.feature_importances_}).sort_values('importance', ascending=False)\n",
    "print('Random Forest Feature Importance:')\n",
    "print(rf_im_df.head(20))"
   ]
  }
 ],
 "metadata": {
  "kernelspec": {
   "display_name": "Python 3 (ipykernel)",
   "language": "python",
   "name": "python3"
  },
  "language_info": {
   "codemirror_mode": {
    "name": "ipython",
    "version": 3
   },
   "file_extension": ".py",
   "mimetype": "text/x-python",
   "name": "python",
   "nbconvert_exporter": "python",
   "pygments_lexer": "ipython3",
   "version": "3.11.9"
  }
 },
 "nbformat": 4,
 "nbformat_minor": 5
}
