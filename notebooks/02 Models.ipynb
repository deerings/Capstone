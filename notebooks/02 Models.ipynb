{
 "cells": [
  {
   "cell_type": "code",
   "execution_count": 4,
   "id": "fb57871b-5419-4b0c-bc72-8161ec1d8355",
   "metadata": {},
   "outputs": [],
   "source": [
    "import pandas as pd\n",
    "import seaborn as sns\n",
    "import matplotlib.pyplot as plt\n",
    "import numpy as np\n",
    "\n",
    "from sklearn.linear_model import LinearRegression\n",
    "from sklearn.preprocessing import LabelEncoder\n",
    "from sklearn.ensemble import RandomForestRegressor, GradientBoostingRegressor\n",
    "from sklearn.neighbors import KNeighborsRegressor\n",
    "from sklearn.preprocessing import StandardScaler\n",
    "from sklearn.model_selection import train_test_split, KFold\n",
    "from sklearn.metrics import mean_squared_error, mean_absolute_error, r2_score"
   ]
  },
  {
   "cell_type": "code",
   "execution_count": 8,
   "id": "1022c166-234c-4754-b25a-5e13497830c5",
   "metadata": {},
   "outputs": [],
   "source": [
    "df = pd.read_csv('~/Capstone/data/airbnb-listings_cleaned.csv', low_memory=False)"
   ]
  },
  {
   "cell_type": "code",
   "execution_count": null,
   "id": "02539fce-a12a-4b5a-8fcb-ef63f3344ae3",
   "metadata": {},
   "outputs": [],
   "source": [
    "df.head(5)"
   ]
  },
  {
   "cell_type": "code",
   "execution_count": 3,
   "id": "46ed2252-83aa-481a-9c1d-a0c6d6b2ffd3",
   "metadata": {},
   "outputs": [
    {
     "ename": "NameError",
     "evalue": "name 'df' is not defined",
     "output_type": "error",
     "traceback": [
      "\u001b[0;31m---------------------------------------------------------------------------\u001b[0m",
      "\u001b[0;31mNameError\u001b[0m                                 Traceback (most recent call last)",
      "Cell \u001b[0;32mIn[3], line 2\u001b[0m\n\u001b[1;32m      1\u001b[0m \u001b[38;5;66;03m# Encode categorical features with mean price\u001b[39;00m\n\u001b[0;32m----> 2\u001b[0m categorical_cols \u001b[38;5;241m=\u001b[39m \u001b[43mdf\u001b[49m\u001b[38;5;241m.\u001b[39mselect_dtypes(include\u001b[38;5;241m=\u001b[39m[\u001b[38;5;124m'\u001b[39m\u001b[38;5;124mobject\u001b[39m\u001b[38;5;124m'\u001b[39m])\u001b[38;5;241m.\u001b[39mcolumns\n\u001b[1;32m      3\u001b[0m df_le \u001b[38;5;241m=\u001b[39m df\u001b[38;5;241m.\u001b[39mcopy()\n\u001b[1;32m      4\u001b[0m \u001b[38;5;28;01mfor\u001b[39;00m col \u001b[38;5;129;01min\u001b[39;00m categorical_cols:\n",
      "\u001b[0;31mNameError\u001b[0m: name 'df' is not defined"
     ]
    }
   ],
   "source": [
    "# Encode categorical features with mean price\n",
    "categorical_cols = df.select_dtypes(include=['object']).columns\n",
    "df_le = df.copy()\n",
    "for col in categorical_cols:\n",
    "    le = LabelEncoder()\n",
    "    df_le[col] = df_le.groupby(col)['Price'].transform('mean')\n",
    "\n",
    "# Convert datetime columns to integer format (seconds since epoch)\n",
    "datetime_column = df.select_dtypes(include=['datetime64']).columns\n",
    "for col in datetime_column:\n",
    "    df_le[col] = df_le[col].astype('int64') // 10**9\n",
    "\n",
    "# Compute the correlation matrix\n",
    "corr_matrix = df_le.corr()\n",
    "\n",
    "# Select the correlations of other variables with the target variable \"Price\"\n",
    "price_corr = corr_matrix['Price'].abs().sort_values(ascending=False)\n",
    "\n",
    "# Select top 30 correlations excluding the target variable itself\n",
    "top_30_corr = price_corr[1:31]\n",
    "\n",
    "# Plot the correlation bar chart\n",
    "plt.figure(figsize=(12, 8))\n",
    "top_30_corr.plot(kind='barh', color='lightcoral')\n",
    "plt.title('Top 30 Correlations with Price', fontsize=16)\n",
    "plt.xlabel('Correlation', fontsize=12)\n",
    "plt.ylabel('Variables', fontsize=12)\n",
    "plt.show()"
   ]
  },
  {
   "cell_type": "markdown",
   "id": "553f438e-3884-4040-818e-a11be19744e0",
   "metadata": {},
   "source": [
    "#### Feature Selection"
   ]
  },
  {
   "cell_type": "code",
   "execution_count": 5,
   "id": "46cf6acb-5107-4497-889c-404de4a3d161",
   "metadata": {},
   "outputs": [],
   "source": [
    "sf = ['Amenities', 'Street', 'Neighbourhood Cleansed', 'Host Name', 'Bedrooms', 'Accommodates', 'Room Type', 'Bathrooms']\n",
    "X = df_le[sf]\n",
    "y = df_le['Price']"
   ]
  },
  {
   "cell_type": "markdown",
   "id": "c35ea171-796b-4acf-a24b-1becbc4821c9",
   "metadata": {},
   "source": [
    "#### First Split"
   ]
  },
  {
   "cell_type": "code",
   "execution_count": 6,
   "id": "b6f7596e-7ad6-4f8e-816a-d1840c9faa32",
   "metadata": {},
   "outputs": [],
   "source": [
    "X_train_val, X_test, y_train_val, y_test = train_test_split(X, y, test_size=0.10, random_state=42)"
   ]
  },
  {
   "cell_type": "markdown",
   "id": "65a5f003-9239-4342-a0bf-16b1158689d6",
   "metadata": {},
   "source": [
    "#### Second Split"
   ]
  },
  {
   "cell_type": "code",
   "execution_count": 7,
   "id": "13c65668-981e-41a2-9fa7-8fe93788ad83",
   "metadata": {},
   "outputs": [],
   "source": [
    "X_train, X_val, y_train, y_val = train_test_split(X_train_val, y_train_val, test_size=0.1111, random_state=42)"
   ]
  },
  {
   "cell_type": "markdown",
   "id": "b6ee6d0a-8a84-493a-b3ea-57e99985b326",
   "metadata": {},
   "source": [
    "#### Linear Regression Model Application and Evaluation"
   ]
  },
  {
   "cell_type": "code",
   "execution_count": 8,
   "id": "87e10022-133c-449b-9d8d-3edd00904e5a",
   "metadata": {},
   "outputs": [],
   "source": [
    "lm_model = LinearRegression()"
   ]
  },
  {
   "cell_type": "markdown",
   "id": "56c7e553-b02a-4f0f-8ba5-89106c16c357",
   "metadata": {},
   "source": [
    "#### K-Fold Cross Validation"
   ]
  },
  {
   "cell_type": "code",
   "execution_count": 9,
   "id": "d03b29af-3c17-4fc5-9a00-d826282449d6",
   "metadata": {},
   "outputs": [],
   "source": [
    "kf = KFold(n_splits=5, shuffle=True, random_state=42)"
   ]
  },
  {
   "cell_type": "code",
   "execution_count": 10,
   "id": "e5516bc7-80e1-4017-8fd8-846d8099e64a",
   "metadata": {},
   "outputs": [
    {
     "name": "stdout",
     "output_type": "stream",
     "text": [
      "Fold 1 - MSE: 2978.3434, MAE: 27.2430, R2: 0.8657\n",
      "Fold 2 - MSE: 2896.5145, MAE: 27.1349, R2: 0.8689\n",
      "Fold 3 - MSE: 2952.9891, MAE: 27.3699, R2: 0.8659\n",
      "Fold 4 - MSE: 2959.9590, MAE: 27.3386, R2: 0.8654\n",
      "Fold 5 - MSE: 3038.9513, MAE: 27.3794, R2: 0.8649\n"
     ]
    }
   ],
   "source": [
    "cv_r = []\n",
    "for fold, (train_i,val_i) in enumerate(kf.split(X_train),1):\n",
    "    X_train_f, X_val_f = X_train.iloc[train_i], X_train.iloc[val_i]\n",
    "    y_train_f, y_val_f = y_train.iloc[train_i], y_train.iloc[val_i]\n",
    "\n",
    "    s = StandardScaler()\n",
    "    X_train_s = s.fit_transform(X_train_f)\n",
    "    X_val_s = s.transform(X_val_f)\n",
    "\n",
    "    lm_model.fit(X_train_s,y_train_f)\n",
    "    y_pred = lm_model.predict(X_val_s)\n",
    "\n",
    "    mse = mean_squared_error(y_val_f, y_pred)\n",
    "    mae = mean_absolute_error(y_val_f, y_pred)\n",
    "    r2 = r2_score(y_val_f, y_pred)\n",
    "\n",
    "    cv_r.append({'Fold': fold, 'MSE': mse, 'MAE': mae, 'R2': r2})\n",
    "    \n",
    "    print(f\"Fold {fold} - MSE: {mse:.4f}, MAE: {mae:.4f}, R2: {r2:.4f}\")"
   ]
  },
  {
   "cell_type": "code",
   "execution_count": 11,
   "id": "dcfcee0e-241f-4920-9726-c6bacd7311f1",
   "metadata": {},
   "outputs": [
    {
     "name": "stdout",
     "output_type": "stream",
     "text": [
      "\n",
      "Average CV - MSE: 2965.3514, MAE: 27.2932, R2: 0.8662\n"
     ]
    }
   ],
   "source": [
    "avg_mse = np.mean([fold['MSE'] for fold in cv_r])\n",
    "avg_mae = np.mean([fold['MAE'] for fold in cv_r])\n",
    "avg_r2 = np.mean([fold['R2'] for fold in cv_r])\n",
    "print(f\"\\nAverage CV - MSE: {avg_mse:.4f}, MAE: {avg_mae:.4f}, R2: {avg_r2:.4f}\")"
   ]
  },
  {
   "cell_type": "markdown",
   "id": "96076dc4-fb03-4ee2-a291-c12cffe669fe",
   "metadata": {},
   "source": [
    "#### Train model on whole train set and evaluate on validation set"
   ]
  },
  {
   "cell_type": "code",
   "execution_count": 12,
   "id": "f8b91e6c-a6dc-42f2-97f4-f041ec1bec14",
   "metadata": {},
   "outputs": [],
   "source": [
    "s_2 = StandardScaler()\n",
    "X_train_s = s_2.fit_transform(X_train)\n",
    "X_val_s = s_2.transform(X_val)"
   ]
  },
  {
   "cell_type": "code",
   "execution_count": 13,
   "id": "be051776-7500-40b3-a127-398b57a84e10",
   "metadata": {},
   "outputs": [],
   "source": [
    "lm_model.fit(X_train_s,y_train)\n",
    "y_pred_val = lm_model.predict(X_val_s)"
   ]
  },
  {
   "cell_type": "code",
   "execution_count": 14,
   "id": "34263949-3664-4467-ba58-eccb0da35bb7",
   "metadata": {},
   "outputs": [
    {
     "name": "stdout",
     "output_type": "stream",
     "text": [
      "\n",
      "Validation Results - MSE: 3033.0690, MAE: 27.3368, R2: 0.8585\n"
     ]
    }
   ],
   "source": [
    "mse = mean_squared_error(y_val, y_pred_val)\n",
    "mae = mean_absolute_error(y_val, y_pred_val)\n",
    "r2 = r2_score(y_val, y_pred_val)\n",
    "print(f\"\\nValidation Results - MSE: {mse:.4f}, MAE: {mae:.4f}, R2: {r2:.4f}\")"
   ]
  },
  {
   "cell_type": "markdown",
   "id": "71fdc1c2-dba7-4e8b-8714-c13643b5c84e",
   "metadata": {},
   "source": [
    "#### Last Evaluation on test set"
   ]
  },
  {
   "cell_type": "code",
   "execution_count": 15,
   "id": "8261d1d7-2083-4c5a-87eb-f096b05ff419",
   "metadata": {},
   "outputs": [],
   "source": [
    "X_test_s = s_2.transform(X_test)\n",
    "y_pred_test = lm_model.predict(X_test_s)"
   ]
  },
  {
   "cell_type": "code",
   "execution_count": 16,
   "id": "0c927d5c-817d-4cce-9d0b-388e12f9d78d",
   "metadata": {},
   "outputs": [
    {
     "name": "stdout",
     "output_type": "stream",
     "text": [
      "\n",
      "Test Results - MSE: 2977.0707, MAE: 27.2840, R2: 0.8653\n"
     ]
    }
   ],
   "source": [
    "mse_t = mean_squared_error(y_test, y_pred_test)\n",
    "mae_t = mean_absolute_error(y_test, y_pred_test)\n",
    "r2_t = r2_score(y_test, y_pred_test)\n",
    "print(f\"\\nTest Results - MSE: {mse_t:.4f}, MAE: {mae_t:.4f}, R2: {r2_t:.4f}\")"
   ]
  },
  {
   "cell_type": "markdown",
   "id": "33061d37-02ea-4d21-a2fc-59f998c36dad",
   "metadata": {},
   "source": [
    "#### Random Forest Regression Model Application and Evaluation"
   ]
  },
  {
   "cell_type": "code",
   "execution_count": 17,
   "id": "a87a1b63-5f25-4324-b1ca-97d875f6fb8c",
   "metadata": {},
   "outputs": [],
   "source": [
    "rf_model = RandomForestRegressor(n_estimators=50, random_state=42, n_jobs=-1)"
   ]
  },
  {
   "cell_type": "markdown",
   "id": "0ce907de-bc9e-44f8-b626-3138e5359a2f",
   "metadata": {},
   "source": [
    "#### K-Fold Cross Validation"
   ]
  },
  {
   "cell_type": "code",
   "execution_count": 18,
   "id": "e8f7c776-86a2-4944-9b91-e3fb5beae4c6",
   "metadata": {},
   "outputs": [],
   "source": [
    "kf = KFold(n_splits=5, shuffle=True, random_state=42)"
   ]
  },
  {
   "cell_type": "code",
   "execution_count": 19,
   "id": "dadc4d6f-9580-4f67-b4aa-8684e7f03924",
   "metadata": {},
   "outputs": [
    {
     "name": "stdout",
     "output_type": "stream",
     "text": [
      "Fold 1 - MSE: 1881.2501, MAE: 15.3614, R2: 0.9152\n",
      "Fold 2 - MSE: 1837.6162, MAE: 15.4155, R2: 0.9168\n",
      "Fold 3 - MSE: 1865.8119, MAE: 15.4441, R2: 0.9153\n",
      "Fold 4 - MSE: 1887.7830, MAE: 15.5338, R2: 0.9142\n",
      "Fold 5 - MSE: 1973.1052, MAE: 15.4727, R2: 0.9123\n"
     ]
    }
   ],
   "source": [
    "cv_r = []\n",
    "for fold, (train_i,val_i) in enumerate(kf.split(X_train),1):\n",
    "    X_train_f, X_val_f = X_train.iloc[train_i], X_train.iloc[val_i]\n",
    "    y_train_f, y_val_f = y_train.iloc[train_i], y_train.iloc[val_i]\n",
    "\n",
    "    s = StandardScaler()\n",
    "    X_train_s = s.fit_transform(X_train_f)\n",
    "    X_val_s = s.transform(X_val_f)\n",
    "\n",
    "    rf_model.fit(X_train_s,y_train_f)\n",
    "    y_pred = rf_model.predict(X_val_s)\n",
    "\n",
    "    mse = mean_squared_error(y_val_f, y_pred)\n",
    "    mae = mean_absolute_error(y_val_f, y_pred)\n",
    "    r2 = r2_score(y_val_f, y_pred)\n",
    "\n",
    "    cv_r.append({'Fold': fold, 'MSE': mse, 'MAE': mae, 'R2': r2})\n",
    "    \n",
    "    print(f\"Fold {fold} - MSE: {mse:.4f}, MAE: {mae:.4f}, R2: {r2:.4f}\")"
   ]
  },
  {
   "cell_type": "code",
   "execution_count": 20,
   "id": "977309c5-6fee-4550-87bd-f4ff4f45153c",
   "metadata": {},
   "outputs": [
    {
     "name": "stdout",
     "output_type": "stream",
     "text": [
      "\n",
      "Average CV - MSE: 1889.1133, MAE: 15.4455, R2: 0.9147\n"
     ]
    }
   ],
   "source": [
    "avg_mse = np.mean([fold['MSE'] for fold in cv_r])\n",
    "avg_mae = np.mean([fold['MAE'] for fold in cv_r])\n",
    "avg_r2 = np.mean([fold['R2'] for fold in cv_r])\n",
    "print(f\"\\nAverage CV - MSE: {avg_mse:.4f}, MAE: {avg_mae:.4f}, R2: {avg_r2:.4f}\")"
   ]
  },
  {
   "cell_type": "markdown",
   "id": "a7710d24-b893-4a89-ba6d-0e7768a21c98",
   "metadata": {},
   "source": [
    "#### Train model on whole train set and evaluate on validation set"
   ]
  },
  {
   "cell_type": "code",
   "execution_count": 21,
   "id": "c0b8e12c-d912-4afd-a2f7-c7364c8d5d9a",
   "metadata": {},
   "outputs": [],
   "source": [
    "s_2 = StandardScaler()\n",
    "X_train_s = s_2.fit_transform(X_train)\n",
    "X_val_s = s_2.transform(X_val)"
   ]
  },
  {
   "cell_type": "code",
   "execution_count": 22,
   "id": "7285d53d-8351-4879-86d4-d5fa4ae5d743",
   "metadata": {},
   "outputs": [],
   "source": [
    "rf_model.fit(X_train_s,y_train)\n",
    "y_pred_val = rf_model.predict(X_val_s)"
   ]
  },
  {
   "cell_type": "code",
   "execution_count": 23,
   "id": "78c1c9ef-5dd8-4443-a0b2-f5951eef38b3",
   "metadata": {},
   "outputs": [
    {
     "name": "stdout",
     "output_type": "stream",
     "text": [
      "\n",
      "Validation Results - MSE: 1840.5930, MAE: 15.1676, R2: 0.9141\n"
     ]
    }
   ],
   "source": [
    "mse = mean_squared_error(y_val, y_pred_val)\n",
    "mae = mean_absolute_error(y_val, y_pred_val)\n",
    "r2 = r2_score(y_val, y_pred_val)\n",
    "print(f\"\\nValidation Results - MSE: {mse:.4f}, MAE: {mae:.4f}, R2: {r2:.4f}\")"
   ]
  },
  {
   "cell_type": "markdown",
   "id": "06385f7d-2a40-4ad4-b0b4-3a985244b164",
   "metadata": {},
   "source": [
    "#### Last Evaluation on test set"
   ]
  },
  {
   "cell_type": "code",
   "execution_count": 24,
   "id": "4aaf4cf2-a3ec-4bcc-bacd-3839a9d3cbb4",
   "metadata": {},
   "outputs": [],
   "source": [
    "X_test_s = s_2.transform(X_test)\n",
    "y_pred_test = rf_model.predict(X_test_s)"
   ]
  },
  {
   "cell_type": "code",
   "execution_count": 25,
   "id": "d9eb8a6b-9e33-4d64-a7ab-d1ed46375571",
   "metadata": {},
   "outputs": [
    {
     "name": "stdout",
     "output_type": "stream",
     "text": [
      "\n",
      "Test Results - MSE: 1837.2659, MAE: 15.0533, R2: 0.9168\n"
     ]
    }
   ],
   "source": [
    "mse_t = mean_squared_error(y_test, y_pred_test)\n",
    "mae_t = mean_absolute_error(y_test, y_pred_test)\n",
    "r2_t = r2_score(y_test, y_pred_test)\n",
    "print(f\"\\nTest Results - MSE: {mse_t:.4f}, MAE: {mae_t:.4f}, R2: {r2_t:.4f}\")"
   ]
  },
  {
   "cell_type": "markdown",
   "id": "d683d9a0-10d9-4993-bede-dfb8b2635daf",
   "metadata": {},
   "source": [
    "#### Gradient Boosting Regression Model Application and Evaluation"
   ]
  },
  {
   "cell_type": "code",
   "execution_count": 26,
   "id": "b70437d7-fe3e-4ff4-960b-d011a08c0210",
   "metadata": {},
   "outputs": [],
   "source": [
    "gb_model = GradientBoostingRegressor()"
   ]
  },
  {
   "cell_type": "markdown",
   "id": "44007162-43f0-4a6d-83ce-ea751ba45a8a",
   "metadata": {},
   "source": [
    "#### K-Fold Cross Validation"
   ]
  },
  {
   "cell_type": "code",
   "execution_count": 27,
   "id": "442c8f3e-bbd0-4779-9d79-8b8f42d981a0",
   "metadata": {},
   "outputs": [],
   "source": [
    "kf = KFold(n_splits=5, shuffle=True, random_state=42)"
   ]
  },
  {
   "cell_type": "code",
   "execution_count": 28,
   "id": "3492252c-8c60-478b-9f41-2a6741509c35",
   "metadata": {},
   "outputs": [
    {
     "name": "stdout",
     "output_type": "stream",
     "text": [
      "Fold 1 - MSE: 2147.7309, MAE: 20.9766, R2: 0.9032\n",
      "Fold 2 - MSE: 2086.8547, MAE: 21.0400, R2: 0.9055\n",
      "Fold 3 - MSE: 2119.3647, MAE: 21.1550, R2: 0.9038\n",
      "Fold 4 - MSE: 2134.9786, MAE: 20.9059, R2: 0.9029\n",
      "Fold 5 - MSE: 2216.8537, MAE: 21.2301, R2: 0.9014\n"
     ]
    }
   ],
   "source": [
    "cv_r = []\n",
    "for fold, (train_i,val_i) in enumerate(kf.split(X_train),1):\n",
    "    X_train_f, X_val_f = X_train.iloc[train_i], X_train.iloc[val_i]\n",
    "    y_train_f, y_val_f = y_train.iloc[train_i], y_train.iloc[val_i]\n",
    "\n",
    "    s = StandardScaler()\n",
    "    X_train_s = s.fit_transform(X_train_f)\n",
    "    X_val_s = s.transform(X_val_f)\n",
    "\n",
    "    gb_model.fit(X_train_s,y_train_f)\n",
    "    y_pred = gb_model.predict(X_val_s)\n",
    "\n",
    "    mse = mean_squared_error(y_val_f, y_pred)\n",
    "    mae = mean_absolute_error(y_val_f, y_pred)\n",
    "    r2 = r2_score(y_val_f, y_pred)\n",
    "\n",
    "    cv_r.append({'Fold': fold, 'MSE': mse, 'MAE': mae, 'R2': r2})\n",
    "    \n",
    "    print(f\"Fold {fold} - MSE: {mse:.4f}, MAE: {mae:.4f}, R2: {r2:.4f}\")"
   ]
  },
  {
   "cell_type": "code",
   "execution_count": 29,
   "id": "a5230661-1dc7-4e16-ab36-985ef639519d",
   "metadata": {},
   "outputs": [
    {
     "name": "stdout",
     "output_type": "stream",
     "text": [
      "\n",
      "Average CV - MSE: 2141.1565, MAE: 21.0615, R2: 0.9034\n"
     ]
    }
   ],
   "source": [
    "avg_mse = np.mean([fold['MSE'] for fold in cv_r])\n",
    "avg_mae = np.mean([fold['MAE'] for fold in cv_r])\n",
    "avg_r2 = np.mean([fold['R2'] for fold in cv_r])\n",
    "print(f\"\\nAverage CV - MSE: {avg_mse:.4f}, MAE: {avg_mae:.4f}, R2: {avg_r2:.4f}\")"
   ]
  },
  {
   "cell_type": "markdown",
   "id": "e9bc2510-b143-4762-a385-c307db1eeb6f",
   "metadata": {},
   "source": [
    "#### Train model on whole train set and evaluate on validation set"
   ]
  },
  {
   "cell_type": "code",
   "execution_count": 30,
   "id": "e336e7be-26f8-4eb7-9342-c59cb0d3edf9",
   "metadata": {},
   "outputs": [],
   "source": [
    "s_2 = StandardScaler()\n",
    "X_train_s = s_2.fit_transform(X_train)\n",
    "X_val_s = s_2.transform(X_val)"
   ]
  },
  {
   "cell_type": "code",
   "execution_count": 31,
   "id": "65e4deeb-7b44-4b96-9021-907b45545bb9",
   "metadata": {},
   "outputs": [],
   "source": [
    "gb_model.fit(X_train_s,y_train)\n",
    "y_pred_val = gb_model.predict(X_val_s)"
   ]
  },
  {
   "cell_type": "code",
   "execution_count": 32,
   "id": "c000764c-91e1-4e2a-8800-c019411e3385",
   "metadata": {},
   "outputs": [
    {
     "name": "stdout",
     "output_type": "stream",
     "text": [
      "\n",
      "Validation Results - MSE: 2199.6697, MAE: 21.1132, R2: 0.8974\n"
     ]
    }
   ],
   "source": [
    "mse = mean_squared_error(y_val, y_pred_val)\n",
    "mae = mean_absolute_error(y_val, y_pred_val)\n",
    "r2 = r2_score(y_val, y_pred_val)\n",
    "print(f\"\\nValidation Results - MSE: {mse:.4f}, MAE: {mae:.4f}, R2: {r2:.4f}\")"
   ]
  },
  {
   "cell_type": "markdown",
   "id": "65b267d8-4186-45c4-9100-d93344149453",
   "metadata": {},
   "source": [
    "#### Last Evaluation on test set"
   ]
  },
  {
   "cell_type": "code",
   "execution_count": 33,
   "id": "e5157c7c-6f28-4c69-818f-919821da3ab2",
   "metadata": {},
   "outputs": [],
   "source": [
    "X_test_s = s_2.transform(X_test)\n",
    "y_pred_test = gb_model.predict(X_test_s)"
   ]
  },
  {
   "cell_type": "code",
   "execution_count": 34,
   "id": "4ed8be0c-98a4-432b-8de5-bc2b1727252a",
   "metadata": {},
   "outputs": [
    {
     "name": "stdout",
     "output_type": "stream",
     "text": [
      "\n",
      "Test Results - MSE: 2168.9048, MAE: 20.9695, R2: 0.9018\n"
     ]
    }
   ],
   "source": [
    "mse_t = mean_squared_error(y_test, y_pred_test)\n",
    "mae_t = mean_absolute_error(y_test, y_pred_test)\n",
    "r2_t = r2_score(y_test, y_pred_test)\n",
    "print(f\"\\nTest Results - MSE: {mse_t:.4f}, MAE: {mae_t:.4f}, R2: {r2_t:.4f}\")"
   ]
  },
  {
   "cell_type": "markdown",
   "id": "1b00c20e-903f-4efb-8a00-04e5d0a7c5b9",
   "metadata": {},
   "source": [
    "#### K Nearest Neighbors Regression Model Application and Evaluation"
   ]
  },
  {
   "cell_type": "code",
   "execution_count": 35,
   "id": "f3211068-5128-4712-92ca-75c8b505dc5b",
   "metadata": {},
   "outputs": [],
   "source": [
    "knn_model = KNeighborsRegressor()"
   ]
  },
  {
   "cell_type": "markdown",
   "id": "0e24395a-bbae-4951-b94c-8caab0dcb68a",
   "metadata": {},
   "source": [
    "#### K-Fold Cross Validation"
   ]
  },
  {
   "cell_type": "code",
   "execution_count": 36,
   "id": "74034a13-df0c-4f28-ac6f-c8661371d582",
   "metadata": {},
   "outputs": [],
   "source": [
    "kf = KFold(n_splits=5, shuffle=True, random_state=42)"
   ]
  },
  {
   "cell_type": "code",
   "execution_count": 37,
   "id": "fdb87850-7b17-497a-b10a-b89b7f859e6a",
   "metadata": {},
   "outputs": [
    {
     "name": "stdout",
     "output_type": "stream",
     "text": [
      "Fold 1 - MSE: 2303.0381, MAE: 20.8901, R2: 0.8962\n",
      "Fold 2 - MSE: 2260.1015, MAE: 20.8061, R2: 0.8977\n",
      "Fold 3 - MSE: 2308.7543, MAE: 20.9020, R2: 0.8952\n",
      "Fold 4 - MSE: 2318.1488, MAE: 21.0389, R2: 0.8946\n",
      "Fold 5 - MSE: 2365.2770, MAE: 20.9024, R2: 0.8948\n"
     ]
    }
   ],
   "source": [
    "cv_r = []\n",
    "for fold, (train_i,val_i) in enumerate(kf.split(X_train),1):\n",
    "    X_train_f, X_val_f = X_train.iloc[train_i], X_train.iloc[val_i]\n",
    "    y_train_f, y_val_f = y_train.iloc[train_i], y_train.iloc[val_i]\n",
    "\n",
    "    s = StandardScaler()\n",
    "    X_train_s = s.fit_transform(X_train_f)\n",
    "    X_val_s = s.transform(X_val_f)\n",
    "\n",
    "    knn_model.fit(X_train_s,y_train_f)\n",
    "    y_pred = knn_model.predict(X_val_s)\n",
    "\n",
    "    mse = mean_squared_error(y_val_f, y_pred)\n",
    "    mae = mean_absolute_error(y_val_f, y_pred)\n",
    "    r2 = r2_score(y_val_f, y_pred)\n",
    "\n",
    "    cv_r.append({'Fold': fold, 'MSE': mse, 'MAE': mae, 'R2': r2})\n",
    "    \n",
    "    print(f\"Fold {fold} - MSE: {mse:.4f}, MAE: {mae:.4f}, R2: {r2:.4f}\")"
   ]
  },
  {
   "cell_type": "code",
   "execution_count": 38,
   "id": "40487792-64c4-4618-893e-15d491a970a2",
   "metadata": {},
   "outputs": [
    {
     "name": "stdout",
     "output_type": "stream",
     "text": [
      "\n",
      "Average CV - MSE: 2311.0639, MAE: 20.9079, R2: 0.8957\n"
     ]
    }
   ],
   "source": [
    "avg_mse = np.mean([fold['MSE'] for fold in cv_r])\n",
    "avg_mae = np.mean([fold['MAE'] for fold in cv_r])\n",
    "avg_r2 = np.mean([fold['R2'] for fold in cv_r])\n",
    "print(f\"\\nAverage CV - MSE: {avg_mse:.4f}, MAE: {avg_mae:.4f}, R2: {avg_r2:.4f}\")"
   ]
  },
  {
   "cell_type": "markdown",
   "id": "1dd4074f-cf2d-4768-a06f-10cf828df1ad",
   "metadata": {},
   "source": [
    "#### Train model on whole train set and evaluate on validation set"
   ]
  },
  {
   "cell_type": "code",
   "execution_count": 39,
   "id": "b3924905-ffde-489d-a982-7b1efffc8d54",
   "metadata": {},
   "outputs": [],
   "source": [
    "s_2 = StandardScaler()\n",
    "X_train_s = s_2.fit_transform(X_train)\n",
    "X_val_s = s_2.transform(X_val)"
   ]
  },
  {
   "cell_type": "code",
   "execution_count": 40,
   "id": "f33e9731-f3cc-49e0-b876-351833b0f41a",
   "metadata": {},
   "outputs": [],
   "source": [
    "knn_model.fit(X_train_s,y_train)\n",
    "y_pred_val = knn_model.predict(X_val_s)"
   ]
  },
  {
   "cell_type": "code",
   "execution_count": 42,
   "id": "f84e0075-9d71-483a-9903-aebcc0ddd266",
   "metadata": {},
   "outputs": [
    {
     "name": "stdout",
     "output_type": "stream",
     "text": [
      "\n",
      "Validation Results - MSE: 2348.9617, MAE: 20.7650, R2: 0.8904\n"
     ]
    }
   ],
   "source": [
    "mse = mean_squared_error(y_val, y_pred_val)\n",
    "mae = mean_absolute_error(y_val, y_pred_val)\n",
    "r2 = r2_score(y_val, y_pred_val)\n",
    "print(f\"\\nValidation Results - MSE: {mse:.4f}, MAE: {mae:.4f}, R2: {r2:.4f}\")"
   ]
  },
  {
   "cell_type": "markdown",
   "id": "6cef9644-ca1e-4a43-988d-b955d0e809da",
   "metadata": {},
   "source": [
    "#### Last Evaluation on test set"
   ]
  },
  {
   "cell_type": "code",
   "execution_count": 43,
   "id": "e417132e-8ce4-45a1-8e5e-32dfd834bfbc",
   "metadata": {},
   "outputs": [],
   "source": [
    "X_test_s = s_2.transform(X_test)\n",
    "y_pred_test = knn_model.predict(X_test_s)"
   ]
  },
  {
   "cell_type": "code",
   "execution_count": 44,
   "id": "275e3f9a-1d97-4197-87d3-4bdf830a182a",
   "metadata": {},
   "outputs": [
    {
     "name": "stdout",
     "output_type": "stream",
     "text": [
      "\n",
      "Test Results - MSE: 2361.1094, MAE: 20.5758, R2: 0.8931\n"
     ]
    }
   ],
   "source": [
    "mse_t = mean_squared_error(y_test, y_pred_test)\n",
    "mae_t = mean_absolute_error(y_test, y_pred_test)\n",
    "r2_t = r2_score(y_test, y_pred_test)\n",
    "print(f\"\\nTest Results - MSE: {mse_t:.4f}, MAE: {mae_t:.4f}, R2: {r2_t:.4f}\")"
   ]
  }
 ],
 "metadata": {
  "kernelspec": {
   "display_name": "Python 3 (ipykernel)",
   "language": "python",
   "name": "python3"
  },
  "language_info": {
   "codemirror_mode": {
    "name": "ipython",
    "version": 3
   },
   "file_extension": ".py",
   "mimetype": "text/x-python",
   "name": "python",
   "nbconvert_exporter": "python",
   "pygments_lexer": "ipython3",
   "version": "3.11.9"
  }
 },
 "nbformat": 4,
 "nbformat_minor": 5
}
