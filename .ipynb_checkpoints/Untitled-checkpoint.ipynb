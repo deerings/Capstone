{
 "cells": [
  {
   "cell_type": "code",
   "execution_count": null,
   "id": "541916e1-33aa-4ec2-b68c-2fee6d71d6fe",
   "metadata": {},
   "outputs": [],
   "source": [
    "import pandas as pd"
   ]
  },
  {
   "cell_type": "code",
   "execution_count": null,
   "id": "8eb16b25-3f3a-4e56-96fc-3e4dbe0b807e",
   "metadata": {},
   "outputs": [],
   "source": [
    "print(\"hello world!\");"
   ]
  }
 ],
 "metadata": {
  "kernelspec": {
   "display_name": "Python 3 (ipykernel)",
   "language": "python",
   "name": "python3"
  },
  "language_info": {
   "codemirror_mode": {
    "name": "ipython",
    "version": 3
   },
   "file_extension": ".py",
   "mimetype": "text/x-python",
   "name": "python",
   "nbconvert_exporter": "python",
   "pygments_lexer": "ipython3",
   "version": "3.11.9"
  }
 },
 "nbformat": 4,
 "nbformat_minor": 5
}
