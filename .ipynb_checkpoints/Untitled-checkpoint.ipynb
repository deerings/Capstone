{
 "cells": [
  {
   "cell_type": "code",
   "execution_count": 1,
   "id": "541916e1-33aa-4ec2-b68c-2fee6d71d6fe",
   "metadata": {},
   "outputs": [],
   "source": [
    "import pandas as pd"
   ]
  },
  {
   "cell_type": "code",
   "execution_count": 2,
   "id": "8eb16b25-3f3a-4e56-96fc-3e4dbe0b807e",
   "metadata": {},
   "outputs": [
    {
     "name": "stdout",
     "output_type": "stream",
     "text": [
      "hello world!\n"
     ]
    }
   ],
   "source": [
    "print(\"hello world!\");"
   ]
  },
  {
   "cell_type": "code",
   "execution_count": 3,
   "id": "02c7bc39-6f17-4f6f-9ef9-4bd79d0a0f08",
   "metadata": {},
   "outputs": [
    {
     "data": {
      "text/plain": [
       "'Hello Team'"
      ]
     },
     "execution_count": 3,
     "metadata": {},
     "output_type": "execute_result"
    }
   ],
   "source": [
    "\"Hello Team\""
   ]
  },
  {
   "cell_type": "code",
   "execution_count": null,
   "id": "3fa935ec-cbaa-4f66-a469-0b3fd07858ad",
   "metadata": {},
   "outputs": [],
   "source": []
  }
 ],
 "metadata": {
  "kernelspec": {
   "display_name": "Python 3 (ipykernel)",
   "language": "python",
   "name": "python3"
  },
  "language_info": {
   "codemirror_mode": {
    "name": "ipython",
    "version": 3
   },
   "file_extension": ".py",
   "mimetype": "text/x-python",
   "name": "python",
   "nbconvert_exporter": "python",
   "pygments_lexer": "ipython3",
   "version": "3.11.9"
  }
 },
 "nbformat": 4,
 "nbformat_minor": 5
}
